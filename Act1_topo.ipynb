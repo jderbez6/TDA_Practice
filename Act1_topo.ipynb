{
 "cells": [
  {
   "attachments": {},
   "cell_type": "markdown",
   "metadata": {},
   "source": [
    "# Actividad 1"
   ]
  },
  {
   "attachments": {},
   "cell_type": "markdown",
   "metadata": {},
   "source": [
    "1. Realiza una función en Python que dada una función $f$, un subconjunto $E$ y un dominio $D$, te regrese $f^{-1}(E)$. Realiza un test con la función $f : D \\rightarrow I$ dada por $D = \\{−4,−3,−2,−1,0,1,2,3,4\\}$ e $I = \\{0,1,4,9,16\\}$ y regla de asignación $x \\mapsto x^2 $."
   ]
  },
  {
   "cell_type": "code",
<<<<<<< HEAD
   "execution_count": 8,
=======
   "execution_count": 2,
>>>>>>> 7c2d3e32d6e161906cc9fc466b84319cc23b7106
   "metadata": {},
   "outputs": [],
   "source": [
    "# Definición función preimagen\n",
    "def Pre(f, I, D, E):\n",
    "    p = []\n",
    "    for x in D:\n",
    "        if f(x) in I and f(x) in E:\n",
    "            p.append(x)\n",
    "\n",
    "    return p"
   ]
  },
  {
   "cell_type": "code",
<<<<<<< HEAD
   "execution_count": 11,
=======
   "execution_count": 3,
>>>>>>> 7c2d3e32d6e161906cc9fc466b84319cc23b7106
   "metadata": {},
   "outputs": [
    {
     "name": "stdout",
     "output_type": "stream",
     "text": [
      "[-4, -2, 0, 2, 4]\n"
     ]
    }
   ],
   "source": [
    "#prueba pre-imagen\n",
    "\n",
    "def f(x):\n",
    "    y = x**2\n",
    "    return y\n",
    "\n",
    "D = [-4, -3, -2, -1, 0, 1, 2, 3, 4]\n",
    "I = [0, 1, 4, 9 ,16]\n",
    "\n",
    "pre = Pre(f, I, D, [0, 4, 16])\n",
    "print(pre)"
   ]
  },
  {
<<<<<<< HEAD
   "attachments": {},
   "cell_type": "markdown",
   "metadata": {},
   "source": [
    "2. Con ayuda de la función anterior, crea una nueva tal que dada la función $f$, la topología para $D$ y para $I$ (en este último sin contar el vacío), te regrese si la función para esa topología es continua.\n",
    "Realiza un test con la función $f: x \\mapsto x^2$,\n",
    "\n",
    "$$\\tau_D = \\{\\emptyset,\\{0\\},\\{-3,-1,1,3\\},\\{-4,-2,2,4\\},\\{-3,-1,0,1,3\\},\\{-4,-2,0,2,4\\},\\{-4,-3,-2,-1,1,2,3,4\\},\\{-4,-3,-2,-1,0,1,2,3,4\\}\\}.\n",
    "$$\n",
    "\n",
    "\n",
    "$$\\tau_I = \\{∅,\\{0\\},\\{1,9\\},\\{4,16\\},\\{0,1,9\\},\\{0,4,16\\},\\{1,4,9,16\\},\\{0,1,4,9,16\\}\\}.$$\n"
   ]
  },
  {
   "attachments": {},
   "cell_type": "markdown",
   "metadata": {},
   "source": [
    "3. Verifica si las siguientes funciones son continuas con las topologías indicadas:\n",
    "\n",
    "(a) $f: x \\mapsto x^2$, $D$ e $I$ como el inciso anterior.\n",
    "$$\n",
    "\\tau_D = \\{\\emptyset, D\\}\n",
    "$$\n",
    "\n",
    "$$\n",
    "\\tau_I = \\{\\emptyset, I\\}\n",
    "$$\n",
    "\n",
    "(b) $f: I \\mapsto I, f(x) = 0, \\tau_I = 2^{I}$\n",
    "\n",
    "\n",
    "(c) $f: D \\mapsto D, f(x) = -x, \\tau_D = 2^{D}$\n",
    "\n",
    "\n",
    "(d) $f: D \\mapsto D, f(x) = -x,$ \n",
    "\n",
    "$$\n",
    "\\tau_D = \\{\\{\\emptyset\\}, \\{0\\}, \\{-4. -3, -2, -1\\}\\, \\{1, 2, 3, 4\\}, \\{0, -1, -2, -3, -4\\}, \\{-4, -3, -2, -1, 1, 2, 3, 4\\}, D\\}\n",
    "$$"
   ]
  },
  {
   "cell_type": "markdown",
   "metadata": {},
   "source": []
=======
   "cell_type": "code",
   "execution_count": 4,
   "metadata": {},
   "outputs": [],
   "source": [
    "#Funciones continuas\n",
    "\n",
    "def topo_continua(f, t_d, t_i, I, D):\n",
    "    for a in t_i:\n",
    "        if Pre(f, I, D, a) not in t_d:\n",
    "            return(\"No es continua\")\n",
    "    return(\"Es continua\")"
   ]
  },
  {
   "cell_type": "code",
   "execution_count": 9,
   "metadata": {},
   "outputs": [],
   "source": [
    "#Prueba funcones continuas\n",
    "\n",
    "t_d = [[0], [-3,-1, 1, 3], [-4, -2, 2, 4], [-3, -1, 0, 1, 3], [-4, -2, 0, 2, 4], [-4, -3, -2, -1, 1, 2, 3, 4], [-4, -3, -2, -1, 0, 1, 2, 3, 4]]\n",
    "t_i = [[0], [1, 9], [4, 16], [0, 1, 9], [0, 4, 16], [1, 4, 9, 16], [0, 1, 4, 9, 16]]\n",
    "\n",
    "topo_continua(f, t_d, t_i, I, D)"
   ]
  },
  {
   "cell_type": "code",
   "execution_count": 11,
   "metadata": {},
   "outputs": [
    {
     "data": {
      "text/plain": [
       "'Es continua'"
      ]
     },
     "execution_count": 11,
     "metadata": {},
     "output_type": "execute_result"
    }
   ],
   "source": [
    "#3.1\n",
    "\n",
    "t_d = [D]\n",
    "t_i = [I]\n",
    "\n",
    "topo_continua(f, t_d, t_i, I, D)"
   ]
>>>>>>> 7c2d3e32d6e161906cc9fc466b84319cc23b7106
  }
 ],
 "metadata": {
  "kernelspec": {
   "display_name": "base",
   "language": "python",
   "name": "python3"
  },
  "language_info": {
   "codemirror_mode": {
    "name": "ipython",
    "version": 3
   },
   "file_extension": ".py",
   "mimetype": "text/x-python",
   "name": "python",
   "nbconvert_exporter": "python",
   "pygments_lexer": "ipython3",
   "version": "3.9.12"
  },
  "orig_nbformat": 4
 },
 "nbformat": 4,
 "nbformat_minor": 2
}
