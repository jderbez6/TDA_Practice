{
 "cells": [
  {
   "attachments": {},
   "cell_type": "markdown",
   "metadata": {},
   "source": [
    "# Actividad 1"
   ]
  },
  {
   "attachments": {},
   "cell_type": "markdown",
   "metadata": {},
   "source": [
    "Realiza una función en Python que dada una función $f$, un subconjunto $E$ y un dominio $D$, te regrese $f^{−1}(E)$. Realiza un test con la función $f : D \\rightarrow I$ dada por $D = \\{−4,−3,−2,−1,0,1,2,3,4,5,6\\}$ e $I = \\{0,1,4,9,16\\}$ y regla de asignación $x \\mapsto x^2 $."
   ]
  },
  {
   "attachments": {},
   "cell_type": "markdown",
   "metadata": {},
   "source": [
    "Arriba los diablos\n"
   ]
  },
  {
   "attachments": {},
   "cell_type": "markdown",
   "metadata": {},
   "source": [
    "rayados 1er lugar"
   ]
  },
  {
   "attachments": {},
   "cell_type": "markdown",
   "metadata": {},
   "source": []
  }
 ],
 "metadata": {
  "language_info": {
   "name": "python"
  },
  "orig_nbformat": 4
 },
 "nbformat": 4,
 "nbformat_minor": 2
}
