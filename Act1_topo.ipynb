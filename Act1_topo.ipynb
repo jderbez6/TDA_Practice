{
 "cells": [
  {
   "attachments": {},
   "cell_type": "markdown",
   "metadata": {},
   "source": [
    "# Actividad 1"
   ]
  },
  {
   "attachments": {},
   "cell_type": "markdown",
   "metadata": {},
   "source": [
    "1. Realiza una función en Python que dada una función $f$, un subconjunto $E$ y un dominio $D$, te regrese $f^{−1}(E)$. Realiza un test con la función $f : D \\rightarrow I$ dada por $D = \\{−4,−3,−2,−1,0,1,2,3,4,5,6\\}$ e $I = \\{0,1,4,9,16\\}$ y regla de asignación $x \\mapsto x^2 $."
   ]
  },
  {
   "attachments": {},
   "cell_type": "markdown",
   "metadata": {},
   "source": [
    "2. Con ayuda de la función anterior, crea una nueva tal que dada la función $f$, la topología para $D$ y para $I$ (en este último sin contar el vacío), te regrese si la función para esa topología es continua.\n",
    "Realiza un test con la función $f: x \\mapsto x^2$,\n",
    "\n",
    "$$\\tau_D = \\{\\emptyset,\\{0\\},\\{-3,-1,1,3\\},\\{-4,-2,2,4\\},\\{-3,-1,0,1,3\\},\\{-4,-2,0,2,4\\},\\{-4,-3,-2,-1,1,2,3,4\\},\\{-4,-3,-2,-1,0,1,2,3,4\\}\\}.\n",
    "$$\n",
    "\n",
    "\n",
    "$$\\tau_I = \\{∅,\\{0\\},\\{1,9\\},\\{4,16\\},\\{0,1,9\\},\\{0,4,16\\},\\{1,4,9,16\\},\\{0,1,4,9,16\\}\\}.$$\n"
   ]
  },
  {
   "attachments": {},
   "cell_type": "markdown",
   "metadata": {},
   "source": [
    "PRUEBA"
   ]
  }
 ],
 "metadata": {
  "kernelspec": {
   "display_name": "base",
   "language": "python",
   "name": "python3"
  },
  "language_info": {
   "name": "python",
   "version": "3.9.12"
  },
  "orig_nbformat": 4
 },
 "nbformat": 4,
 "nbformat_minor": 2
}
